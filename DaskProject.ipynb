{
 "cells": [
  {
   "cell_type": "markdown",
   "id": "28e0d480-27c8-44d2-888e-c16b051bb7dc",
   "metadata": {},
   "source": [
    "Comparing Numpy with Dask for Large Array Creation"
   ]
  },
  {
   "cell_type": "code",
   "execution_count": null,
   "id": "68c29ebe-be94-4ff1-b588-038108488aca",
   "metadata": {},
   "outputs": [],
   "source": [
    "%%time\n",
    "import numpy as np\n",
    "a = np.ones((10000,1000,1000))\n",
    "a"
   ]
  },
  {
   "cell_type": "code",
   "execution_count": 1,
   "id": "a65c6aac-2534-406a-8f48-a2fbd6d14f89",
   "metadata": {},
   "outputs": [
    {
     "name": "stdout",
     "output_type": "stream",
     "text": [
      "CPU times: user 143 ms, sys: 58.4 ms, total: 201 ms\n",
      "Wall time: 373 ms\n"
     ]
    },
    {
     "data": {
      "text/html": [
       "<table>\n",
       "    <tr>\n",
       "        <td>\n",
       "            <table style=\"border-collapse: collapse;\">\n",
       "                <thead>\n",
       "                    <tr>\n",
       "                        <td> </td>\n",
       "                        <th> Array </th>\n",
       "                        <th> Chunk </th>\n",
       "                    </tr>\n",
       "                </thead>\n",
       "                <tbody>\n",
       "                    \n",
       "                    <tr>\n",
       "                        <th> Bytes </th>\n",
       "                        <td> 72.76 TiB </td>\n",
       "                        <td> 126.51 MiB </td>\n",
       "                    </tr>\n",
       "                    \n",
       "                    <tr>\n",
       "                        <th> Shape </th>\n",
       "                        <td> (100000, 100000, 1000) </td>\n",
       "                        <td> (255, 255, 255) </td>\n",
       "                    </tr>\n",
       "                    <tr>\n",
       "                        <th> Dask graph </th>\n",
       "                        <td colspan=\"2\"> 617796 chunks in 1 graph layer </td>\n",
       "                    </tr>\n",
       "                    <tr>\n",
       "                        <th> Data type </th>\n",
       "                        <td colspan=\"2\"> float64 numpy.ndarray </td>\n",
       "                    </tr>\n",
       "                </tbody>\n",
       "            </table>\n",
       "        </td>\n",
       "        <td>\n",
       "        <svg width=\"156\" height=\"240\" style=\"stroke:rgb(0,0,0);stroke-width:1\" >\n",
       "\n",
       "  <!-- Horizontal lines -->\n",
       "  <line x1=\"10\" y1=\"0\" x2=\"80\" y2=\"70\" style=\"stroke-width:2\" />\n",
       "  <line x1=\"10\" y1=\"6\" x2=\"80\" y2=\"76\" />\n",
       "  <line x1=\"10\" y1=\"12\" x2=\"80\" y2=\"83\" />\n",
       "  <line x1=\"10\" y1=\"18\" x2=\"80\" y2=\"89\" />\n",
       "  <line x1=\"10\" y1=\"25\" x2=\"80\" y2=\"95\" />\n",
       "  <line x1=\"10\" y1=\"31\" x2=\"80\" y2=\"102\" />\n",
       "  <line x1=\"10\" y1=\"37\" x2=\"80\" y2=\"108\" />\n",
       "  <line x1=\"10\" y1=\"44\" x2=\"80\" y2=\"114\" />\n",
       "  <line x1=\"10\" y1=\"50\" x2=\"80\" y2=\"121\" />\n",
       "  <line x1=\"10\" y1=\"56\" x2=\"80\" y2=\"127\" />\n",
       "  <line x1=\"10\" y1=\"63\" x2=\"80\" y2=\"133\" />\n",
       "  <line x1=\"10\" y1=\"69\" x2=\"80\" y2=\"140\" />\n",
       "  <line x1=\"10\" y1=\"75\" x2=\"80\" y2=\"146\" />\n",
       "  <line x1=\"10\" y1=\"82\" x2=\"80\" y2=\"152\" />\n",
       "  <line x1=\"10\" y1=\"88\" x2=\"80\" y2=\"159\" />\n",
       "  <line x1=\"10\" y1=\"94\" x2=\"80\" y2=\"165\" />\n",
       "  <line x1=\"10\" y1=\"100\" x2=\"80\" y2=\"171\" />\n",
       "  <line x1=\"10\" y1=\"107\" x2=\"80\" y2=\"177\" />\n",
       "  <line x1=\"10\" y1=\"113\" x2=\"80\" y2=\"184\" />\n",
       "  <line x1=\"10\" y1=\"120\" x2=\"80\" y2=\"190\" style=\"stroke-width:2\" />\n",
       "\n",
       "  <!-- Vertical lines -->\n",
       "  <line x1=\"10\" y1=\"0\" x2=\"10\" y2=\"120\" style=\"stroke-width:2\" />\n",
       "  <line x1=\"13\" y1=\"3\" x2=\"13\" y2=\"123\" />\n",
       "  <line x1=\"17\" y1=\"7\" x2=\"17\" y2=\"127\" />\n",
       "  <line x1=\"21\" y1=\"11\" x2=\"21\" y2=\"131\" />\n",
       "  <line x1=\"24\" y1=\"14\" x2=\"24\" y2=\"134\" />\n",
       "  <line x1=\"28\" y1=\"18\" x2=\"28\" y2=\"138\" />\n",
       "  <line x1=\"32\" y1=\"22\" x2=\"32\" y2=\"142\" />\n",
       "  <line x1=\"35\" y1=\"25\" x2=\"35\" y2=\"145\" />\n",
       "  <line x1=\"39\" y1=\"29\" x2=\"39\" y2=\"149\" />\n",
       "  <line x1=\"43\" y1=\"33\" x2=\"43\" y2=\"153\" />\n",
       "  <line x1=\"47\" y1=\"37\" x2=\"47\" y2=\"157\" />\n",
       "  <line x1=\"50\" y1=\"40\" x2=\"50\" y2=\"160\" />\n",
       "  <line x1=\"54\" y1=\"44\" x2=\"54\" y2=\"164\" />\n",
       "  <line x1=\"58\" y1=\"48\" x2=\"58\" y2=\"168\" />\n",
       "  <line x1=\"62\" y1=\"52\" x2=\"62\" y2=\"172\" />\n",
       "  <line x1=\"65\" y1=\"55\" x2=\"65\" y2=\"175\" />\n",
       "  <line x1=\"69\" y1=\"59\" x2=\"69\" y2=\"179\" />\n",
       "  <line x1=\"73\" y1=\"63\" x2=\"73\" y2=\"183\" />\n",
       "  <line x1=\"76\" y1=\"66\" x2=\"76\" y2=\"186\" />\n",
       "  <line x1=\"80\" y1=\"70\" x2=\"80\" y2=\"190\" style=\"stroke-width:2\" />\n",
       "\n",
       "  <!-- Colored Rectangle -->\n",
       "  <polygon points=\"10.0,0.0 80.58823529411765,70.58823529411765 80.58823529411765,190.58823529411765 10.0,120.0\" style=\"fill:#8B4903A0;stroke-width:0\"/>\n",
       "\n",
       "  <!-- Horizontal lines -->\n",
       "  <line x1=\"10\" y1=\"0\" x2=\"35\" y2=\"0\" style=\"stroke-width:2\" />\n",
       "  <line x1=\"13\" y1=\"3\" x2=\"39\" y2=\"3\" />\n",
       "  <line x1=\"17\" y1=\"7\" x2=\"42\" y2=\"7\" />\n",
       "  <line x1=\"21\" y1=\"11\" x2=\"46\" y2=\"11\" />\n",
       "  <line x1=\"24\" y1=\"14\" x2=\"50\" y2=\"14\" />\n",
       "  <line x1=\"28\" y1=\"18\" x2=\"53\" y2=\"18\" />\n",
       "  <line x1=\"32\" y1=\"22\" x2=\"57\" y2=\"22\" />\n",
       "  <line x1=\"35\" y1=\"25\" x2=\"61\" y2=\"25\" />\n",
       "  <line x1=\"39\" y1=\"29\" x2=\"65\" y2=\"29\" />\n",
       "  <line x1=\"43\" y1=\"33\" x2=\"68\" y2=\"33\" />\n",
       "  <line x1=\"47\" y1=\"37\" x2=\"72\" y2=\"37\" />\n",
       "  <line x1=\"50\" y1=\"40\" x2=\"76\" y2=\"40\" />\n",
       "  <line x1=\"54\" y1=\"44\" x2=\"80\" y2=\"44\" />\n",
       "  <line x1=\"58\" y1=\"48\" x2=\"83\" y2=\"48\" />\n",
       "  <line x1=\"62\" y1=\"52\" x2=\"87\" y2=\"52\" />\n",
       "  <line x1=\"65\" y1=\"55\" x2=\"91\" y2=\"55\" />\n",
       "  <line x1=\"69\" y1=\"59\" x2=\"94\" y2=\"59\" />\n",
       "  <line x1=\"73\" y1=\"63\" x2=\"98\" y2=\"63\" />\n",
       "  <line x1=\"76\" y1=\"66\" x2=\"102\" y2=\"66\" />\n",
       "  <line x1=\"80\" y1=\"70\" x2=\"106\" y2=\"70\" style=\"stroke-width:2\" />\n",
       "\n",
       "  <!-- Vertical lines -->\n",
       "  <line x1=\"10\" y1=\"0\" x2=\"80\" y2=\"70\" style=\"stroke-width:2\" />\n",
       "  <line x1=\"16\" y1=\"0\" x2=\"87\" y2=\"70\" />\n",
       "  <line x1=\"22\" y1=\"0\" x2=\"93\" y2=\"70\" />\n",
       "  <line x1=\"29\" y1=\"0\" x2=\"100\" y2=\"70\" />\n",
       "  <line x1=\"35\" y1=\"0\" x2=\"106\" y2=\"70\" style=\"stroke-width:2\" />\n",
       "\n",
       "  <!-- Colored Rectangle -->\n",
       "  <polygon points=\"10.0,0.0 35.41261651458248,0.0 106.00085180870013,70.58823529411765 80.58823529411765,70.58823529411765\" style=\"fill:#8B4903A0;stroke-width:0\"/>\n",
       "\n",
       "  <!-- Horizontal lines -->\n",
       "  <line x1=\"80\" y1=\"70\" x2=\"106\" y2=\"70\" style=\"stroke-width:2\" />\n",
       "  <line x1=\"80\" y1=\"76\" x2=\"106\" y2=\"76\" />\n",
       "  <line x1=\"80\" y1=\"83\" x2=\"106\" y2=\"83\" />\n",
       "  <line x1=\"80\" y1=\"89\" x2=\"106\" y2=\"89\" />\n",
       "  <line x1=\"80\" y1=\"95\" x2=\"106\" y2=\"95\" />\n",
       "  <line x1=\"80\" y1=\"102\" x2=\"106\" y2=\"102\" />\n",
       "  <line x1=\"80\" y1=\"108\" x2=\"106\" y2=\"108\" />\n",
       "  <line x1=\"80\" y1=\"114\" x2=\"106\" y2=\"114\" />\n",
       "  <line x1=\"80\" y1=\"121\" x2=\"106\" y2=\"121\" />\n",
       "  <line x1=\"80\" y1=\"127\" x2=\"106\" y2=\"127\" />\n",
       "  <line x1=\"80\" y1=\"133\" x2=\"106\" y2=\"133\" />\n",
       "  <line x1=\"80\" y1=\"140\" x2=\"106\" y2=\"140\" />\n",
       "  <line x1=\"80\" y1=\"146\" x2=\"106\" y2=\"146\" />\n",
       "  <line x1=\"80\" y1=\"152\" x2=\"106\" y2=\"152\" />\n",
       "  <line x1=\"80\" y1=\"159\" x2=\"106\" y2=\"159\" />\n",
       "  <line x1=\"80\" y1=\"165\" x2=\"106\" y2=\"165\" />\n",
       "  <line x1=\"80\" y1=\"171\" x2=\"106\" y2=\"171\" />\n",
       "  <line x1=\"80\" y1=\"177\" x2=\"106\" y2=\"177\" />\n",
       "  <line x1=\"80\" y1=\"184\" x2=\"106\" y2=\"184\" />\n",
       "  <line x1=\"80\" y1=\"190\" x2=\"106\" y2=\"190\" style=\"stroke-width:2\" />\n",
       "\n",
       "  <!-- Vertical lines -->\n",
       "  <line x1=\"80\" y1=\"70\" x2=\"80\" y2=\"190\" style=\"stroke-width:2\" />\n",
       "  <line x1=\"87\" y1=\"70\" x2=\"87\" y2=\"190\" />\n",
       "  <line x1=\"93\" y1=\"70\" x2=\"93\" y2=\"190\" />\n",
       "  <line x1=\"100\" y1=\"70\" x2=\"100\" y2=\"190\" />\n",
       "  <line x1=\"106\" y1=\"70\" x2=\"106\" y2=\"190\" style=\"stroke-width:2\" />\n",
       "\n",
       "  <!-- Colored Rectangle -->\n",
       "  <polygon points=\"80.58823529411765,70.58823529411765 106.00085180870013,70.58823529411765 106.00085180870013,190.58823529411765 80.58823529411765,190.58823529411765\" style=\"fill:#8B4903A0;stroke-width:0\"/>\n",
       "\n",
       "  <!-- Text -->\n",
       "  <text x=\"93.294544\" y=\"210.588235\" font-size=\"1.0rem\" font-weight=\"100\" text-anchor=\"middle\" >1000</text>\n",
       "  <text x=\"126.000852\" y=\"130.588235\" font-size=\"1.0rem\" font-weight=\"100\" text-anchor=\"middle\" transform=\"rotate(-90,126.000852,130.588235)\">100000</text>\n",
       "  <text x=\"35.294118\" y=\"175.294118\" font-size=\"1.0rem\" font-weight=\"100\" text-anchor=\"middle\" transform=\"rotate(45,35.294118,175.294118)\">100000</text>\n",
       "</svg>\n",
       "        </td>\n",
       "    </tr>\n",
       "</table>"
      ],
      "text/plain": [
       "dask.array<ones_like, shape=(100000, 100000, 1000), dtype=float64, chunksize=(255, 255, 255), chunktype=numpy.ndarray>"
      ]
     },
     "execution_count": 1,
     "metadata": {},
     "output_type": "execute_result"
    }
   ],
   "source": [
    "%%time\n",
    "import dask.array as da\n",
    "a = da.ones((100000,100000,1000))\n",
    "a"
   ]
  },
  {
   "cell_type": "markdown",
   "id": "b898d99e-f5d3-467b-989c-9b84d1df0612",
   "metadata": {},
   "source": [
    "## Basics"
   ]
  },
  {
   "cell_type": "code",
   "execution_count": 2,
   "id": "c0cfa7fe-efeb-4dc3-988b-1249208fb038",
   "metadata": {},
   "outputs": [],
   "source": [
    "from time import sleep\n",
    "\n",
    "def inc(x):\n",
    "    /\n",
    "    return x + 1\n",
    "\n",
    "def add(x,y):\n",
    "    sleep(1)\n",
    "    return x + y"
   ]
  },
  {
   "cell_type": "code",
   "execution_count": 3,
   "id": "289ef249-581c-46d8-9fd8-78388e0ef9c7",
   "metadata": {},
   "outputs": [
    {
     "name": "stdout",
     "output_type": "stream",
     "text": [
      "CPU times: user 1.19 ms, sys: 2.18 ms, total: 3.38 ms\n",
      "Wall time: 1.01 s\n"
     ]
    }
   ],
   "source": [
    "%%time\n",
    "\n",
    "x= inc(1)\n",
    "y = inc(2)\n",
    "z = add(x,y)"
   ]
  },
  {
   "cell_type": "markdown",
   "id": "6a8c5daf-6f31-467a-aa6c-d7e0a9927684",
   "metadata": {},
   "source": [
    "Here, it takes 3 seconds to run because we call each function sequentially"
   ]
  },
  {
   "cell_type": "code",
   "execution_count": 4,
   "id": "89bf11db-b5c1-49f5-9e3e-925bd946d5e2",
   "metadata": {},
   "outputs": [],
   "source": [
    "from dask import delayed"
   ]
  },
  {
   "cell_type": "markdown",
   "id": "4027639e-dc1f-4d0f-993c-2c9e60a91360",
   "metadata": {},
   "source": [
    "In Dask, the delayed function is used to create a lazy computation graph. This means it allows you to define computations without immediately executing them. Instead of running tasks right away, delayed builds a graph of tasks that will be executed later when explicitly triggered.\n"
   ]
  },
  {
   "cell_type": "code",
   "execution_count": 12,
   "id": "0ebe2b00-8ed5-4da1-864c-39c584efab96",
   "metadata": {},
   "outputs": [],
   "source": [
    "@delayed\n",
    "def inc(x):\n",
    "    sleep(1)\n",
    "    return x+1\n",
    "\n",
    "@delayed\n",
    "def add(x,y):\n",
    "    sleep(1)\n",
    "    return x+y"
   ]
  },
  {
   "cell_type": "code",
   "execution_count": 13,
   "id": "f7a48fc1-61da-4fbd-aa3e-a626b3fe4017",
   "metadata": {},
   "outputs": [
    {
     "name": "stdout",
     "output_type": "stream",
     "text": [
      "CPU times: user 826 μs, sys: 449 μs, total: 1.28 ms\n",
      "Wall time: 944 μs\n"
     ]
    }
   ],
   "source": [
    "%%time\n",
    "\n",
    "x= delayed(inc)(1)\n",
    "y= delayed(inc)(2)\n",
    "z= delayed(add)(x,y)"
   ]
  },
  {
   "cell_type": "code",
   "execution_count": 14,
   "id": "55a79ca0-5fb4-42db-9316-320c722d8f21",
   "metadata": {},
   "outputs": [
    {
     "data": {
      "text/plain": [
       "Delayed('add-783fe011-900e-4deb-bd20-8f0ba039c8c9')"
      ]
     },
     "execution_count": 14,
     "metadata": {},
     "output_type": "execute_result"
    }
   ],
   "source": [
    "z"
   ]
  },
  {
   "cell_type": "markdown",
   "id": "41c6cab2-d9a6-4ebc-9bf1-2aa9d60b2f30",
   "metadata": {},
   "source": [
    "using .visualize() from graphviz"
   ]
  },
  {
   "cell_type": "code",
   "execution_count": 15,
   "id": "35af5808-0fbb-4aaf-8822-30c0e40d4cfc",
   "metadata": {},
   "outputs": [
    {
     "data": {
      "image/png": "[encoded data removed]",
      "text/plain": [
       "<IPython.core.display.Image object>"
      ]
     },
     "execution_count": 15,
     "metadata": {},
     "output_type": "execute_result"
    }
   ],
   "source": [
    "z.visualize()"
   ]
  },
  {
   "cell_type": "code",
   "execution_count": 16,
   "id": "d96a7583-64b1-4180-8a7e-a9bf7e064f13",
   "metadata": {},
   "outputs": [
    {
     "name": "stdout",
     "output_type": "stream",
     "text": [
      "CPU times: user 3.64 ms, sys: 4.85 ms, total: 8.49 ms\n",
      "Wall time: 2.01 s\n"
     ]
    },
    {
     "data": {
      "text/plain": [
       "5"
      ]
     },
     "execution_count": 16,
     "metadata": {},
     "output_type": "execute_result"
    }
   ],
   "source": [
    "%%time\n",
    "z.compute()"
   ]
  },
  {
   "cell_type": "markdown",
   "id": "e7511ae9-1508-49f3-85c2-96576c9f406a",
   "metadata": {},
   "source": [
    "## Parallelizing a for loop"
   ]
  },
  {
   "cell_type": "code",
   "execution_count": 14,
   "id": "37ac7353-c64a-46ff-8646-967688bad537",
   "metadata": {},
   "outputs": [],
   "source": [
    "data = [1,2,3,4,5,6,7,8,9,10]"
   ]
  },
  {
   "cell_type": "code",
   "execution_count": 15,
   "id": "a7afcdb2-a2e3-4ae6-a85a-e6994c96c5ee",
   "metadata": {},
   "outputs": [
    {
     "name": "stdout",
     "output_type": "stream",
     "text": [
      "CPU times: user 762 μs, sys: 130 μs, total: 892 μs\n",
      "Wall time: 847 μs\n"
     ]
    }
   ],
   "source": [
    "%%time\n",
    "\n",
    "results = []\n",
    "for x in data:\n",
    "    y = inc(x)\n",
    "    results.append(y)\n",
    "\n",
    "total = sum(results)"
   ]
  },
  {
   "cell_type": "code",
   "execution_count": 16,
   "id": "a69ce120-45d6-430d-8619-f0def0b3927e",
   "metadata": {},
   "outputs": [
    {
     "name": "stdout",
     "output_type": "stream",
     "text": [
      "CPU times: user 450 μs, sys: 162 μs, total: 612 μs\n",
      "Wall time: 494 μs\n"
     ]
    }
   ],
   "source": [
    "%%time\n",
    "results = []\n",
    "\n",
    "for x in data:\n",
    "    y = delayed(inc)(x)\n",
    "    results.append(y)\n",
    "\n",
    "total = delayed(sum)(results)"
   ]
  },
  {
   "cell_type": "code",
   "execution_count": 17,
   "id": "d41c2650-05bd-46f5-9b54-8168d025ff9a",
   "metadata": {},
   "outputs": [
    {
     "data": {
      "text/plain": [
       "65"
      ]
     },
     "execution_count": 17,
     "metadata": {},
     "output_type": "execute_result"
    }
   ],
   "source": [
    "total.compute()"
   ]
  },
  {
   "cell_type": "code",
   "execution_count": 18,
   "id": "c91559dd-a4b6-4376-9ad0-007ec3432b0d",
   "metadata": {},
   "outputs": [
    {
     "data": {
      "image/png": "[encoded data removed]",
      "text/plain": [
       "<IPython.core.display.Image object>"
      ]
     },
     "execution_count": 18,
     "metadata": {},
     "output_type": "execute_result"
    }
   ],
   "source": [
    "total.visualize()"
   ]
  },
  {
   "cell_type": "code",
   "execution_count": 17,
   "id": "6485a0bb-714a-475e-a6e9-66ee8c5b92e6",
   "metadata": {},
   "outputs": [],
   "source": [
    "import pandas as pd\n",
    "import dask.dataframe as dd\n",
    "import time\n",
    "import numpy as np"
   ]
  },
  {
   "cell_type": "markdown",
   "id": "03e2dc6b-8111-46c9-a41c-c8eaa145e69e",
   "metadata": {},
   "source": [
    "Reading Large Dataset\n",
    "Lets read a dataframe with 20 million rows and 3 columns respectively."
   ]
  },
  {
   "cell_type": "code",
   "execution_count": 20,
   "id": "cdf97787-d93a-4834-bfc3-b46b375e12c2",
   "metadata": {},
   "outputs": [],
   "source": [
    "pd.DataFrame({\n",
    "               'A': np.random.randint(0, 100, size=20000000),\n",
    "               'B': np.random.randint(0, 100, size=20000000),\n",
    "               'C': np.random.randint(0, 100, size=20000000),\n",
    "              }).to_csv('dataset.csv', index=False)"
   ]
  },
  {
   "cell_type": "code",
   "execution_count": 21,
   "id": "0d23c758-1259-4371-bb9d-5778618066fc",
   "metadata": {},
   "outputs": [
    {
     "name": "stdout",
     "output_type": "stream",
     "text": [
      "Pandas: shape = (20000000, 3), time = 1.011847972869873 seconds\n"
     ]
    }
   ],
   "source": [
    "start_time = time.time()\n",
    "df = pd.read_csv('dataset.csv')\n",
    "pandas_time = time.time() - start_time\n",
    "print(f\"Pandas: shape = {df.shape}, time = {pandas_time} seconds\")"
   ]
  },
  {
   "cell_type": "code",
   "execution_count": 22,
   "id": "3c7c8799-d72c-4b0e-be62-55427d878ca6",
   "metadata": {},
   "outputs": [
    {
     "name": "stdout",
     "output_type": "stream",
     "text": [
      "Dask: shape = (20000000, 3), time = 0.005926847457885742 seconds\n"
     ]
    }
   ],
   "source": [
    "# Read the same file using Dask\n",
    "start_time = time.time()\n",
    "dask_df = dd.read_csv('dataset.csv')\n",
    "dask_time = time.time() - start_time\n",
    "print(f\"Dask: shape = {dask_df.compute().shape}, time = {dask_time} seconds\")"
   ]
  },
  {
   "cell_type": "code",
   "execution_count": 23,
   "id": "c680fa41-982e-4bb7-8ccc-eadc77fa5875",
   "metadata": {},
   "outputs": [
    {
     "data": {
      "text/html": [
       "<div>\n",
       "<style scoped>\n",
       "    .dataframe tbody tr th:only-of-type {\n",
       "        vertical-align: middle;\n",
       "    }\n",
       "\n",
       "    .dataframe tbody tr th {\n",
       "        vertical-align: top;\n",
       "    }\n",
       "\n",
       "    .dataframe thead th {\n",
       "        text-align: right;\n",
       "    }\n",
       "</style>\n",
       "<table border=\"1\" class=\"dataframe\">\n",
       "  <thead>\n",
       "    <tr style=\"text-align: right;\">\n",
       "      <th></th>\n",
       "      <th>A</th>\n",
       "      <th>B</th>\n",
       "      <th>C</th>\n",
       "    </tr>\n",
       "  </thead>\n",
       "  <tbody>\n",
       "    <tr>\n",
       "      <th>0</th>\n",
       "      <td>19</td>\n",
       "      <td>13</td>\n",
       "      <td>42</td>\n",
       "    </tr>\n",
       "    <tr>\n",
       "      <th>1</th>\n",
       "      <td>22</td>\n",
       "      <td>65</td>\n",
       "      <td>8</td>\n",
       "    </tr>\n",
       "    <tr>\n",
       "      <th>2</th>\n",
       "      <td>56</td>\n",
       "      <td>19</td>\n",
       "      <td>7</td>\n",
       "    </tr>\n",
       "    <tr>\n",
       "      <th>3</th>\n",
       "      <td>22</td>\n",
       "      <td>17</td>\n",
       "      <td>75</td>\n",
       "    </tr>\n",
       "    <tr>\n",
       "      <th>4</th>\n",
       "      <td>96</td>\n",
       "      <td>91</td>\n",
       "      <td>18</td>\n",
       "    </tr>\n",
       "  </tbody>\n",
       "</table>\n",
       "</div>"
      ],
      "text/plain": [
       "    A   B   C\n",
       "0  19  13  42\n",
       "1  22  65   8\n",
       "2  56  19   7\n",
       "3  22  17  75\n",
       "4  96  91  18"
      ]
     },
     "execution_count": 23,
     "metadata": {},
     "output_type": "execute_result"
    }
   ],
   "source": [
    "df.head()"
   ]
  },
  {
   "cell_type": "code",
   "execution_count": 24,
   "id": "b07e6a9f-22ef-4bcf-82b9-fa286386c70b",
   "metadata": {},
   "outputs": [
    {
     "data": {
      "text/html": [
       "<div>\n",
       "<style scoped>\n",
       "    .dataframe tbody tr th:only-of-type {\n",
       "        vertical-align: middle;\n",
       "    }\n",
       "\n",
       "    .dataframe tbody tr th {\n",
       "        vertical-align: top;\n",
       "    }\n",
       "\n",
       "    .dataframe thead th {\n",
       "        text-align: right;\n",
       "    }\n",
       "</style>\n",
       "<table border=\"1\" class=\"dataframe\">\n",
       "  <thead>\n",
       "    <tr style=\"text-align: right;\">\n",
       "      <th></th>\n",
       "      <th>A</th>\n",
       "      <th>B</th>\n",
       "      <th>C</th>\n",
       "    </tr>\n",
       "  </thead>\n",
       "  <tbody>\n",
       "    <tr>\n",
       "      <th>0</th>\n",
       "      <td>19</td>\n",
       "      <td>13</td>\n",
       "      <td>42</td>\n",
       "    </tr>\n",
       "    <tr>\n",
       "      <th>1</th>\n",
       "      <td>22</td>\n",
       "      <td>65</td>\n",
       "      <td>8</td>\n",
       "    </tr>\n",
       "    <tr>\n",
       "      <th>2</th>\n",
       "      <td>56</td>\n",
       "      <td>19</td>\n",
       "      <td>7</td>\n",
       "    </tr>\n",
       "    <tr>\n",
       "      <th>3</th>\n",
       "      <td>22</td>\n",
       "      <td>17</td>\n",
       "      <td>75</td>\n",
       "    </tr>\n",
       "    <tr>\n",
       "      <th>4</th>\n",
       "      <td>96</td>\n",
       "      <td>91</td>\n",
       "      <td>18</td>\n",
       "    </tr>\n",
       "  </tbody>\n",
       "</table>\n",
       "</div>"
      ],
      "text/plain": [
       "    A   B   C\n",
       "0  19  13  42\n",
       "1  22  65   8\n",
       "2  56  19   7\n",
       "3  22  17  75\n",
       "4  96  91  18"
      ]
     },
     "execution_count": 24,
     "metadata": {},
     "output_type": "execute_result"
    }
   ],
   "source": [
    "dask_df.head()"
   ]
  },
  {
   "cell_type": "markdown",
   "id": "8f650751-924d-44f1-8b82-0d748d9d45ce",
   "metadata": {},
   "source": [
    "## Grouping By and Aggregation"
   ]
  },
  {
   "cell_type": "code",
   "execution_count": 25,
   "id": "67a14847-24f0-4cd1-bc9e-f2f6c848b0d5",
   "metadata": {},
   "outputs": [
    {
     "name": "stdout",
     "output_type": "stream",
     "text": [
      "Pandas: Time = 0.5185239315032959 seconds\n"
     ]
    }
   ],
   "source": [
    "# Time the groupby operation using Pandas\n",
    "start_time = time.time()\n",
    "pandas_grouped = df.groupby(['A', 'B']).agg({'C': 'sum'})\n",
    "pandas_time = time.time() - start_time\n",
    "print(f\"Pandas: Time = {pandas_time} seconds\")"
   ]
  },
  {
   "cell_type": "code",
   "execution_count": 26,
   "id": "5111fb27-5824-4140-be2d-691319f99573",
   "metadata": {},
   "outputs": [
    {
     "name": "stdout",
     "output_type": "stream",
     "text": [
      "Dask: shape = (20000000, 3), Dask: Time = 0.0089569091796875 seconds\n"
     ]
    }
   ],
   "source": [
    "# Time the groupby operation using Dask\n",
    "start_time = time.time()\n",
    "dask_groupby = dask_df.groupby(['A', 'B']).agg({'C': 'sum'})\n",
    "dask_time = time.time() - start_time\n",
    "print(f\"Dask: shape = {dask_df.compute().shape}, Dask: Time = {dask_time} seconds\")"
   ]
  },
  {
   "cell_type": "markdown",
   "id": "c44b1791-a5f7-4f3f-90a8-49b9668f69f7",
   "metadata": {},
   "source": [
    "## Merging Datasets"
   ]
  },
  {
   "cell_type": "code",
   "execution_count": 27,
   "id": "71711822-f8fb-4a28-a864-2ba0dbb6ac5a",
   "metadata": {},
   "outputs": [
    {
     "name": "stdout",
     "output_type": "stream",
     "text": [
      "Pandas: Time = 186.33371901512146 seconds\n"
     ]
    }
   ],
   "source": [
    "# Merge using Pandas\n",
    "start_time = time.time()\n",
    "merged_pandas = pd.merge(df, df)\n",
    "pandas_time = time.time() - start_time\n",
    "print(f\"Pandas: Time = {pandas_time} seconds\")"
   ]
  },
  {
   "cell_type": "code",
   "execution_count": 28,
   "id": "19ad57f5-12f3-4456-ab19-d89c1d3daacb",
   "metadata": {},
   "outputs": [
    {
     "name": "stdout",
     "output_type": "stream",
     "text": [
      "Dask: shape = (419946990, 3), Dask: Time = 0.044466257095336914 seconds\n"
     ]
    }
   ],
   "source": [
    "# Merge using Dask\n",
    "start_time = time.time()\n",
    "merged_dask = dd.merge(dask_df, dask_df)\n",
    "dask_time = time.time() - start_time\n",
    "print(f\"Dask: shape = {merged_dask.compute().shape}, Dask: Time = {dask_time} seconds\")"
   ]
  },
  {
   "cell_type": "markdown",
   "id": "0aa890b4-4fb1-48e6-afef-c63bba513f3e",
   "metadata": {},
   "source": [
    "## Filtering Data"
   ]
  },
  {
   "cell_type": "code",
   "execution_count": 29,
   "id": "1452eaa1-4d7b-47f2-8694-b69dda6abc4c",
   "metadata": {},
   "outputs": [
    {
     "name": "stdout",
     "output_type": "stream",
     "text": [
      "Pandas: Time = 0.24823808670043945 seconds\n"
     ]
    }
   ],
   "source": [
    "# Filtering using Pandas\n",
    "start_time = time.time()\n",
    "selected_pandas = df[df['A'] > 5000000]\n",
    "pandas_time = time.time() - start_time\n",
    "print(f\"Pandas: Time = {pandas_time} seconds\")"
   ]
  },
  {
   "cell_type": "code",
   "execution_count": 30,
   "id": "c4fc21d1-20e2-46a3-a75c-1a0d98423a1b",
   "metadata": {},
   "outputs": [
    {
     "name": "stdout",
     "output_type": "stream",
     "text": [
      "Dask: Time = 0.012341022491455078 seconds\n"
     ]
    }
   ],
   "source": [
    "# Filtering using Dask\n",
    "start_time = time.time()\n",
    "selected_dask = dask_df[dask_df['A'] > 5000000]\n",
    "dask_time = time.time() - start_time\n",
    "print(f\"Dask: Time = {dask_time} seconds\")"
   ]
  },
  {
   "cell_type": "markdown",
   "id": "ba1975de-796d-4d93-b09d-f62d6e479ab6",
   "metadata": {},
   "source": [
    "## Apply Function"
   ]
  },
  {
   "cell_type": "code",
   "execution_count": 31,
   "id": "69b46c0f-b163-4f3f-a34a-24aeb2c48979",
   "metadata": {},
   "outputs": [],
   "source": [
    "# Function to perform Apply on\n",
    "def my_function(x):\n",
    "    return x * 2"
   ]
  },
  {
   "cell_type": "code",
   "execution_count": 32,
   "id": "38d35d30-c7e5-42b1-aff8-44f542084a96",
   "metadata": {},
   "outputs": [
    {
     "name": "stdout",
     "output_type": "stream",
     "text": [
      "Pandas: Time = 2.3145110607147217 seconds\n"
     ]
    }
   ],
   "source": [
    "# Apply a function using Pandas\n",
    "start_time = time.time()\n",
    "applied_pandas = df['A'].apply(my_function)\n",
    "pandas_time = time.time() - start_time\n",
    "print(f\"Pandas: Time = {pandas_time} seconds\")"
   ]
  },
  {
   "cell_type": "code",
   "execution_count": 33,
   "id": "1ba95d99-6560-4c8d-935f-425e9689694a",
   "metadata": {},
   "outputs": [
    {
     "name": "stdout",
     "output_type": "stream",
     "text": [
      "Dask: Time = 0.011747121810913086 seconds\n"
     ]
    },
    {
     "name": "stderr",
     "output_type": "stream",
     "text": [
      "/Users/khushichoudhary/Documents/Math608/venv/lib/python3.12/site-packages/dask_expr/_collection.py:4196: UserWarning: \n",
      "You did not provide metadata, so Dask is running your function on a small dataset to guess output types. It is possible that Dask will guess incorrectly.\n",
      "To provide an explicit output types or to silence this message, please provide the `meta=` keyword, as described in the map or apply function that you are using.\n",
      "  Before: .apply(func)\n",
      "  After:  .apply(func, meta=('A', 'int64'))\n",
      "\n",
      "  warnings.warn(meta_warning(meta))\n"
     ]
    }
   ],
   "source": [
    "# Apply a function using Dask\n",
    "start_time = time.time()\n",
    "applied_dask = dask_df['A'].map(my_function)\n",
    "dask_time = time.time() - start_time\n",
    "print(f\"Dask: Time = {dask_time} seconds\")"
   ]
  }
 ],
 "metadata": {
  "kernelspec": {
   "display_name": "Python 3 (ipykernel)",
   "language": "python",
   "name": "python3"
  },
  "language_info": {
   "codemirror_mode": {
    "name": "ipython",
    "version": 3
   },
   "file_extension": ".py",
   "mimetype": "text/x-python",
   "name": "python",
   "nbconvert_exporter": "python",
   "pygments_lexer": "ipython3",
   "version": "3.12.5"
  }
 },
 "nbformat": 4,
 "nbformat_minor": 5
}
